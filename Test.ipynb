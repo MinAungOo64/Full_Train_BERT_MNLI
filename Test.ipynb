{
 "cells": [
  {
   "cell_type": "markdown",
   "id": "62e7c380-cacb-4959-a4b0-feac14f32998",
   "metadata": {},
   "source": [
    "# Test"
   ]
  },
  {
   "cell_type": "markdown",
   "id": "2313f425-acd1-42ea-8b7a-1765f456bd7a",
   "metadata": {},
   "source": [
    "## Loading Dataset"
   ]
  },
  {
   "cell_type": "code",
   "execution_count": 1,
   "id": "3b74cc1c-d441-46a4-bc81-1013229ed7a2",
   "metadata": {},
   "outputs": [],
   "source": [
    "# load the dataset and tokenizer\n",
    "from datasets import load_dataset\n",
    "from transformers import AutoTokenizer, DataCollatorWithPadding\n",
    "\n",
    "# for train and val\n",
    "raw_datasets = load_dataset(\"glue\", \"mnli\")"
   ]
  },
  {
   "cell_type": "markdown",
   "id": "e8665cb0-a93b-4dbb-ba40-d4b93eece00f",
   "metadata": {},
   "source": [
    "## Load saved model"
   ]
  },
  {
   "cell_type": "code",
   "execution_count": 2,
   "id": "c08b41ce-db92-4eb8-8315-a42cff624274",
   "metadata": {},
   "outputs": [],
   "source": [
    "from transformers import AutoModelForSequenceClassification, AutoTokenizer\n",
    "\n",
    "# Define the path to your saved model\n",
    "output_dir = \"C:/Users/steve/HuggingFace Models/BERT_MNLI_model\"\n",
    "\n",
    "# Load the model and tokenizer\n",
    "model = AutoModelForSequenceClassification.from_pretrained(output_dir)\n",
    "tokenizer = AutoTokenizer.from_pretrained(output_dir)"
   ]
  },
  {
   "cell_type": "markdown",
   "id": "ed36b91a-f274-447f-990f-25537ff36471",
   "metadata": {},
   "source": [
    "## Tokenize"
   ]
  },
  {
   "cell_type": "code",
   "execution_count": 3,
   "id": "8ec4567d-28e4-41bd-8dd2-e0183a5c55af",
   "metadata": {},
   "outputs": [],
   "source": [
    "# tokenize the dataset\n",
    "def tokenize_function(example):\n",
    "    return tokenizer(example[\"premise\"], example[\"hypothesis\"], truncation=True)\n",
    "# batch processing\n",
    "tokenized_datasets = raw_datasets.map(tokenize_function, batched=True)"
   ]
  },
  {
   "cell_type": "code",
   "execution_count": 6,
   "id": "461f85bd-bcf5-4ccd-9a07-17dfce5252e7",
   "metadata": {},
   "outputs": [],
   "source": [
    "# post-processing to prepare for dataloader\n",
    "tokenized_datasets = tokenized_datasets.remove_columns([\"label\", \"premise\", \"hypothesis\", \"idx\"])\n",
    "tokenized_datasets.set_format(\"torch\") # Pytorch tensors"
   ]
  },
  {
   "cell_type": "code",
   "execution_count": 7,
   "id": "8f6ea9ce-51aa-458a-8e77-fd29d7fbbc1a",
   "metadata": {},
   "outputs": [
    {
     "name": "stdout",
     "output_type": "stream",
     "text": [
      "['input_ids', 'token_type_ids', 'attention_mask']\n",
      "['input_ids', 'token_type_ids', 'attention_mask']\n"
     ]
    }
   ],
   "source": [
    "print(tokenized_datasets[\"test_matched\"].column_names)\n",
    "print(tokenized_datasets[\"test_mismatched\"].column_names)"
   ]
  },
  {
   "cell_type": "markdown",
   "id": "ea71195f-8f06-47fa-87ab-bfc677151f9c",
   "metadata": {},
   "source": [
    "## Data Loader"
   ]
  },
  {
   "cell_type": "code",
   "execution_count": 8,
   "id": "8b9653ea-8e74-4f1c-98ad-798bcf079359",
   "metadata": {},
   "outputs": [],
   "source": [
    "from torch.utils.data import DataLoader\n",
    "from datasets import concatenate_datasets\n",
    "\n",
    "# For dynamic padding\n",
    "data_collator = DataCollatorWithPadding(tokenizer=tokenizer)\n",
    "\n",
    "# Prepare test data in batch size of 8\n",
    "test_matched_dataloader = DataLoader(\n",
    "    tokenized_datasets[\"test_matched\"], batch_size=8, collate_fn=data_collator\n",
    ")\n",
    "\n",
    "test_mismatched_dataloader = DataLoader(\n",
    "    tokenized_datasets[\"test_mismatched\"], batch_size=8, collate_fn=data_collator\n",
    ")"
   ]
  },
  {
   "cell_type": "markdown",
   "id": "dd7c2e9c-6e50-489e-b963-54d7ff07beab",
   "metadata": {},
   "source": [
    "## Move model to GPU"
   ]
  },
  {
   "cell_type": "code",
   "execution_count": 9,
   "id": "dc5c79d6-166f-49b4-b19b-afae49f8eabe",
   "metadata": {},
   "outputs": [
    {
     "data": {
      "text/plain": [
       "device(type='cuda')"
      ]
     },
     "execution_count": 9,
     "metadata": {},
     "output_type": "execute_result"
    }
   ],
   "source": [
    "# Move model to GPU if avail or CPU\n",
    "import torch\n",
    "\n",
    "device = torch.device(\"cuda\") if torch.cuda.is_available() else torch.device(\"cpu\")\n",
    "model.to(device)\n",
    "device"
   ]
  },
  {
   "cell_type": "markdown",
   "id": "9e7eeddf-0a73-4955-b5b7-581f2110172b",
   "metadata": {},
   "source": [
    "## Test on matched dataset"
   ]
  },
  {
   "cell_type": "code",
   "execution_count": 11,
   "id": "57204e57-7a59-4869-ba1d-097ecc0fb3ab",
   "metadata": {},
   "outputs": [
    {
     "name": "stderr",
     "output_type": "stream",
     "text": [
      "Running inference: 100%|██████████| 1225/1225 [00:42<00:00, 28.69it/s]\n"
     ]
    }
   ],
   "source": [
    "from tqdm import tqdm  # import tqdm for progress bar\n",
    "\n",
    "# Set the model to evaluation mode (deactivates dropout and other training behaviors)\n",
    "model.eval()  # This ensures layers like dropout are deactivated, making predictions deterministic\n",
    "\n",
    "# test_matched_predictions\n",
    "test_matched_predictions = []\n",
    "\n",
    "# Loop over each batch in the evaluation dataset (eval_dataloader)\n",
    "for batch in tqdm(test_matched_dataloader, desc=\"Running inference\"):  # eval_dataloader yields batches of evaluation data\n",
    "    # Move each element in the batch to the device (GPU/CPU)\n",
    "    batch = {k: v.to(device) for k, v in batch.items() if k != \"labels\"}  # Move tensors to device\n",
    "\n",
    "    # Disable gradient calculation as we are in evaluation mode\n",
    "    with torch.no_grad():  # No need to compute gradients during evaluation\n",
    "        # Forward pass: pass the batch through the model\n",
    "        outputs = model(**batch)  # Forward pass to get model outputs (logits)\n",
    "\n",
    "    # Get the logits (raw predictions before applying any activation function like softmax)\n",
    "    logits = outputs.logits  # Extract the logits from the model's outputs\n",
    "\n",
    "    # Convert logits to predictions by selecting the index with the highest value\n",
    "    predictions = torch.argmax(logits, dim=-1)  # Get the predicted class (index of max logit)\n",
    "    # append to test_matched_predictions\n",
    "    test_matched_predictions.extend(predictions.cpu().numpy())"
   ]
  },
  {
   "cell_type": "markdown",
   "id": "6eadf6ae-a806-4ae3-b022-6dd7b97bf6fb",
   "metadata": {},
   "source": [
    "## Test on mismatched dataset"
   ]
  },
  {
   "cell_type": "code",
   "execution_count": 14,
   "id": "c0df816d-1cb8-42da-add0-089395023055",
   "metadata": {},
   "outputs": [
    {
     "name": "stderr",
     "output_type": "stream",
     "text": [
      "Running inference: 100%|██████████| 1231/1231 [00:43<00:00, 28.34it/s]\n"
     ]
    }
   ],
   "source": [
    "from tqdm import tqdm  # import tqdm for progress bar\n",
    "\n",
    "# Set the model to evaluation mode (deactivates dropout and other training behaviors)\n",
    "model.eval()  # This ensures layers like dropout are deactivated, making predictions deterministic\n",
    "\n",
    "# test_matched_predictions\n",
    "test_mismatched_predictions = []\n",
    "\n",
    "# Loop over each batch in the evaluation dataset (eval_dataloader)\n",
    "for batch in tqdm(test_mismatched_dataloader, desc=\"Running inference\"):  # eval_dataloader yields batches of evaluation data\n",
    "    # Move each element in the batch to the device (GPU/CPU)\n",
    "    batch = {k: v.to(device) for k, v in batch.items()}  # Move tensors to device\n",
    "\n",
    "    # Disable gradient calculation as we are in evaluation mode\n",
    "    with torch.no_grad():  # No need to compute gradients during evaluation\n",
    "        # Forward pass: pass the batch through the model\n",
    "        outputs = model(**batch)  # Forward pass to get model outputs (logits)\n",
    "\n",
    "    # Get the logits (raw predictions before applying any activation function like softmax)\n",
    "    logits = outputs.logits  # Extract the logits from the model's outputs\n",
    "\n",
    "    # Convert logits to predictions by selecting the index with the highest value\n",
    "    predictions = torch.argmax(logits, dim=-1)  # Get the predicted class (index of max logit)\n",
    "    # append to test_matched_predictions\n",
    "    test_mismatched_predictions.extend(predictions.cpu().numpy())"
   ]
  }
 ],
 "metadata": {
  "kernelspec": {
   "display_name": "Python 3 (ipykernel)",
   "language": "python",
   "name": "python3"
  },
  "language_info": {
   "codemirror_mode": {
    "name": "ipython",
    "version": 3
   },
   "file_extension": ".py",
   "mimetype": "text/x-python",
   "name": "python",
   "nbconvert_exporter": "python",
   "pygments_lexer": "ipython3",
   "version": "3.12.7"
  }
 },
 "nbformat": 4,
 "nbformat_minor": 5
}
